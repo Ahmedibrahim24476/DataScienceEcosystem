{
 "cells": [
  {
   "cell_type": "markdown",
   "id": "a4529dc2",
   "metadata": {},
   "source": [
    "# Data Science Tools and Ecosystem"
   ]
  },
  {
   "cell_type": "markdown",
   "id": "b7455489",
   "metadata": {},
   "source": [
    "In this notebook, Data Science Tools and Ecosystem are summarized. Tools are the software that are used to carry out data science related task and Ecosystem is the environment where data science related task are being carried out."
   ]
  },
  {
   "cell_type": "markdown",
   "id": "d3b6b063",
   "metadata": {},
   "source": [
    "**Objectives:**\n",
    "* List Porpular languages for Data Science\n",
    "* List some of the libraries for Data Science\n",
    "* Perform simple arithmetic calculation\n",
    "* write an expression to convert minutes to hours\n",
    "* create an odered and unordered list in jupyternotebook"
   ]
  },
  {
   "cell_type": "markdown",
   "id": "802d4e4a",
   "metadata": {},
   "source": [
    "Some of the porpular languages that Data Scientiest use are:\n",
    "1. Python\n",
    "2. R\n",
    "3. Java\n",
    "    "
   ]
  },
  {
   "cell_type": "markdown",
   "id": "b8edbe22",
   "metadata": {},
   "source": [
    "Some of the commonly used libraries used by Data Scientist include:\n",
    "1. NumPy\n",
    "2. Pandas\n",
    "3. ggplot"
   ]
  },
  {
   "cell_type": "markdown",
   "id": "9585b02f",
   "metadata": {},
   "source": [
    "|Data Science Tools |\n",
    "|-----------|\n",
    "   |GitHub|\n",
    "   |Rstudio|\n",
    "   |IBM Watson Studio|"
   ]
  },
  {
   "cell_type": "markdown",
   "id": "e8aad59c",
   "metadata": {},
   "source": [
    "### --------------------------------------------------------------------------------------------\n",
    "Below are a few examples of evaluating arithmetic expression in python."
   ]
  },
  {
   "cell_type": "code",
   "execution_count": 1,
   "id": "d8db709c",
   "metadata": {},
   "outputs": [
    {
     "data": {
      "text/plain": [
       "17"
      ]
     },
     "execution_count": 1,
     "metadata": {},
     "output_type": "execute_result"
    }
   ],
   "source": [
    "# This a simple arithmetic expression to multiply then add integers\n",
    "(3*4)+5"
   ]
  },
  {
   "cell_type": "code",
   "execution_count": 17,
   "id": "3648ee04",
   "metadata": {},
   "outputs": [
    {
     "name": "stdout",
     "output_type": "stream",
     "text": [
      "3.3333333333333335 hours\n"
     ]
    }
   ],
   "source": [
    "# This will convert 200 minutes to hours by dividing by 60\n",
    "# 1hour = 60minutes\n",
    "# xhours = 200minutes\n",
    "a = 200\n",
    "x = a/60\n",
    "print(x,'hours')"
   ]
  },
  {
   "cell_type": "markdown",
   "id": "867f4931",
   "metadata": {},
   "source": [
    "## Author\n",
    "Ibrahim Ahmed Iya"
   ]
  },
  {
   "cell_type": "code",
   "execution_count": null,
   "id": "9f66b2aa",
   "metadata": {},
   "outputs": [],
   "source": []
  }
 ],
 "metadata": {
  "kernelspec": {
   "display_name": "Python 3 (ipykernel)",
   "language": "python",
   "name": "python3"
  },
  "language_info": {
   "codemirror_mode": {
    "name": "ipython",
    "version": 3
   },
   "file_extension": ".py",
   "mimetype": "text/x-python",
   "name": "python",
   "nbconvert_exporter": "python",
   "pygments_lexer": "ipython3",
   "version": "3.9.12"
  }
 },
 "nbformat": 4,
 "nbformat_minor": 5
}
